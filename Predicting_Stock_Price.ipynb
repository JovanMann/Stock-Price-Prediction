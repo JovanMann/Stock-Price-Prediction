{
 "cells": [
  {
   "cell_type": "markdown",
   "id": "a2353a52",
   "metadata": {},
   "source": [
    "# Netflix Stock Price Prediction Using LSTM "
   ]
  },
  {
   "cell_type": "markdown",
   "id": "a2aee04a",
   "metadata": {},
   "source": [
    "#### - Aritifical recurrent neural network called long short term memory (LSTM). \n",
    "#### - Predicting the closing stock price of a corporation (Netflix) using the past 60 day price.\n",
    "#### - General: LSTM- Used in the field of deep learning which has feedback connections, can process sequences. "
   ]
  },
  {
   "cell_type": "markdown",
   "id": "c6f2c643",
   "metadata": {},
   "source": [
    "## Installing Packages "
   ]
  },
  {
   "cell_type": "code",
   "execution_count": 1,
   "id": "278bd7c1",
   "metadata": {},
   "outputs": [
    {
     "name": "stderr",
     "output_type": "stream",
     "text": [
      "WARNING: pip is being invoked by an old script wrapper. This will fail in a future version of pip.\n",
      "Please see https://github.com/pypa/pip/issues/5599 for advice on fixing the underlying issue.\n",
      "To avoid this problem you can invoke Python with '-m pip' instead of running pip directly.\n"
     ]
    },
    {
     "name": "stdout",
     "output_type": "stream",
     "text": [
      "Requirement already satisfied: pandas_datareader in /Users/jovan/opt/anaconda3/lib/python3.9/site-packages (0.10.0)\n",
      "Requirement already satisfied: pandas>=0.23 in /Users/jovan/opt/anaconda3/lib/python3.9/site-packages (from pandas_datareader) (1.2.5)\n",
      "Requirement already satisfied: requests>=2.19.0 in /Users/jovan/opt/anaconda3/lib/python3.9/site-packages (from pandas_datareader) (2.26.0)\n",
      "Requirement already satisfied: lxml in /Users/jovan/opt/anaconda3/lib/python3.9/site-packages (from pandas_datareader) (4.6.3)\n",
      "Requirement already satisfied: numpy>=1.16.5 in /Users/jovan/opt/anaconda3/lib/python3.9/site-packages (from pandas>=0.23->pandas_datareader) (1.20.3)\n",
      "Requirement already satisfied: python-dateutil>=2.7.3 in /Users/jovan/opt/anaconda3/lib/python3.9/site-packages (from pandas>=0.23->pandas_datareader) (2.8.2)\n",
      "Requirement already satisfied: pytz>=2017.3 in /Users/jovan/opt/anaconda3/lib/python3.9/site-packages (from pandas>=0.23->pandas_datareader) (2021.3)\n",
      "Requirement already satisfied: six>=1.5 in /Users/jovan/opt/anaconda3/lib/python3.9/site-packages (from python-dateutil>=2.7.3->pandas>=0.23->pandas_datareader) (1.16.0)\n",
      "Requirement already satisfied: urllib3<1.27,>=1.21.1 in /Users/jovan/opt/anaconda3/lib/python3.9/site-packages (from requests>=2.19.0->pandas_datareader) (1.26.7)\n",
      "Requirement already satisfied: charset-normalizer~=2.0.0 in /Users/jovan/opt/anaconda3/lib/python3.9/site-packages (from requests>=2.19.0->pandas_datareader) (2.0.4)\n",
      "Requirement already satisfied: idna<4,>=2.5 in /Users/jovan/opt/anaconda3/lib/python3.9/site-packages (from requests>=2.19.0->pandas_datareader) (3.2)\n",
      "Requirement already satisfied: certifi>=2017.4.17 in /Users/jovan/opt/anaconda3/lib/python3.9/site-packages (from requests>=2.19.0->pandas_datareader) (2021.10.8)\n"
     ]
    }
   ],
   "source": [
    "import requests\n",
    "\n",
    "import pip\n",
    "pip.main(['install', 'pandas_datareader'])\n",
    "\n",
    "import math\n",
    "import pandas_datareader as web\n",
    "import pandas as pd\n",
    "import numpy as np\n",
    "from sklearn.preprocessing import MinMaxScaler\n",
    "from keras.models import Sequential\n",
    "from keras.layers import Dense, LSTM\n",
    "import matplotlib.pyplot as plt\n",
    "plt.style.use('fivethirtyeight')"
   ]
  },
  {
   "cell_type": "markdown",
   "id": "df0d355b",
   "metadata": {},
   "source": [
    "# DataReader Stock Quote (c'Yahoo)"
   ]
  },
  {
   "cell_type": "code",
   "execution_count": 5,
   "id": "162470e8",
   "metadata": {},
   "outputs": [
    {
     "data": {
      "text/html": [
       "<div>\n",
       "<style scoped>\n",
       "    .dataframe tbody tr th:only-of-type {\n",
       "        vertical-align: middle;\n",
       "    }\n",
       "\n",
       "    .dataframe tbody tr th {\n",
       "        vertical-align: top;\n",
       "    }\n",
       "\n",
       "    .dataframe thead th {\n",
       "        text-align: right;\n",
       "    }\n",
       "</style>\n",
       "<table border=\"1\" class=\"dataframe\">\n",
       "  <thead>\n",
       "    <tr style=\"text-align: right;\">\n",
       "      <th></th>\n",
       "      <th>High</th>\n",
       "      <th>Low</th>\n",
       "      <th>Open</th>\n",
       "      <th>Close</th>\n",
       "      <th>Volume</th>\n",
       "      <th>Adj Close</th>\n",
       "    </tr>\n",
       "    <tr>\n",
       "      <th>Date</th>\n",
       "      <th></th>\n",
       "      <th></th>\n",
       "      <th></th>\n",
       "      <th></th>\n",
       "      <th></th>\n",
       "      <th></th>\n",
       "    </tr>\n",
       "  </thead>\n",
       "  <tbody>\n",
       "    <tr>\n",
       "      <th>2012-01-03</th>\n",
       "      <td>10.388571</td>\n",
       "      <td>10.018571</td>\n",
       "      <td>10.040000</td>\n",
       "      <td>10.320000</td>\n",
       "      <td>29213800.0</td>\n",
       "      <td>10.320000</td>\n",
       "    </tr>\n",
       "    <tr>\n",
       "      <th>2012-01-04</th>\n",
       "      <td>11.567143</td>\n",
       "      <td>10.258571</td>\n",
       "      <td>10.335714</td>\n",
       "      <td>11.492857</td>\n",
       "      <td>100489900.0</td>\n",
       "      <td>11.492857</td>\n",
       "    </tr>\n",
       "    <tr>\n",
       "      <th>2012-01-05</th>\n",
       "      <td>11.694286</td>\n",
       "      <td>11.040000</td>\n",
       "      <td>11.345714</td>\n",
       "      <td>11.328571</td>\n",
       "      <td>86552900.0</td>\n",
       "      <td>11.328571</td>\n",
       "    </tr>\n",
       "    <tr>\n",
       "      <th>2012-01-06</th>\n",
       "      <td>12.471429</td>\n",
       "      <td>11.242857</td>\n",
       "      <td>11.302857</td>\n",
       "      <td>12.327143</td>\n",
       "      <td>125610800.0</td>\n",
       "      <td>12.327143</td>\n",
       "    </tr>\n",
       "    <tr>\n",
       "      <th>2012-01-09</th>\n",
       "      <td>14.235714</td>\n",
       "      <td>12.448571</td>\n",
       "      <td>12.801429</td>\n",
       "      <td>14.025714</td>\n",
       "      <td>214073300.0</td>\n",
       "      <td>14.025714</td>\n",
       "    </tr>\n",
       "    <tr>\n",
       "      <th>...</th>\n",
       "      <td>...</td>\n",
       "      <td>...</td>\n",
       "      <td>...</td>\n",
       "      <td>...</td>\n",
       "      <td>...</td>\n",
       "      <td>...</td>\n",
       "    </tr>\n",
       "    <tr>\n",
       "      <th>2022-01-19</th>\n",
       "      <td>523.210022</td>\n",
       "      <td>510.510010</td>\n",
       "      <td>515.000000</td>\n",
       "      <td>515.859985</td>\n",
       "      <td>4353500.0</td>\n",
       "      <td>515.859985</td>\n",
       "    </tr>\n",
       "    <tr>\n",
       "      <th>2022-01-20</th>\n",
       "      <td>526.640015</td>\n",
       "      <td>506.929993</td>\n",
       "      <td>517.750000</td>\n",
       "      <td>508.250000</td>\n",
       "      <td>12659000.0</td>\n",
       "      <td>508.250000</td>\n",
       "    </tr>\n",
       "    <tr>\n",
       "      <th>2022-01-21</th>\n",
       "      <td>409.149994</td>\n",
       "      <td>379.989990</td>\n",
       "      <td>400.429993</td>\n",
       "      <td>397.500000</td>\n",
       "      <td>58824800.0</td>\n",
       "      <td>397.500000</td>\n",
       "    </tr>\n",
       "    <tr>\n",
       "      <th>2022-01-24</th>\n",
       "      <td>387.260010</td>\n",
       "      <td>351.459991</td>\n",
       "      <td>383.910004</td>\n",
       "      <td>387.149994</td>\n",
       "      <td>32386800.0</td>\n",
       "      <td>387.149994</td>\n",
       "    </tr>\n",
       "    <tr>\n",
       "      <th>2022-01-25</th>\n",
       "      <td>387.709991</td>\n",
       "      <td>365.130005</td>\n",
       "      <td>379.140015</td>\n",
       "      <td>366.420013</td>\n",
       "      <td>15145800.0</td>\n",
       "      <td>366.420013</td>\n",
       "    </tr>\n",
       "  </tbody>\n",
       "</table>\n",
       "<p>2533 rows × 6 columns</p>\n",
       "</div>"
      ],
      "text/plain": [
       "                  High         Low        Open       Close       Volume  \\\n",
       "Date                                                                      \n",
       "2012-01-03   10.388571   10.018571   10.040000   10.320000   29213800.0   \n",
       "2012-01-04   11.567143   10.258571   10.335714   11.492857  100489900.0   \n",
       "2012-01-05   11.694286   11.040000   11.345714   11.328571   86552900.0   \n",
       "2012-01-06   12.471429   11.242857   11.302857   12.327143  125610800.0   \n",
       "2012-01-09   14.235714   12.448571   12.801429   14.025714  214073300.0   \n",
       "...                ...         ...         ...         ...          ...   \n",
       "2022-01-19  523.210022  510.510010  515.000000  515.859985    4353500.0   \n",
       "2022-01-20  526.640015  506.929993  517.750000  508.250000   12659000.0   \n",
       "2022-01-21  409.149994  379.989990  400.429993  397.500000   58824800.0   \n",
       "2022-01-24  387.260010  351.459991  383.910004  387.149994   32386800.0   \n",
       "2022-01-25  387.709991  365.130005  379.140015  366.420013   15145800.0   \n",
       "\n",
       "             Adj Close  \n",
       "Date                    \n",
       "2012-01-03   10.320000  \n",
       "2012-01-04   11.492857  \n",
       "2012-01-05   11.328571  \n",
       "2012-01-06   12.327143  \n",
       "2012-01-09   14.025714  \n",
       "...                ...  \n",
       "2022-01-19  515.859985  \n",
       "2022-01-20  508.250000  \n",
       "2022-01-21  397.500000  \n",
       "2022-01-24  387.149994  \n",
       "2022-01-25  366.420013  \n",
       "\n",
       "[2533 rows x 6 columns]"
      ]
     },
     "execution_count": 5,
     "metadata": {},
     "output_type": "execute_result"
    }
   ],
   "source": [
    "# Obtain the stock quote \n",
    "df = web.DataReader('NFLX', data_source= 'yahoo', start= '2012-01-01', end= '2022-01-25')\n",
    "\n",
    "# Display the dataframe that is needed\n",
    "df"
   ]
  },
  {
   "cell_type": "code",
   "execution_count": 6,
   "id": "2afd495a",
   "metadata": {},
   "outputs": [
    {
     "data": {
      "text/plain": [
       "(2533, 6)"
      ]
     },
     "execution_count": 6,
     "metadata": {},
     "output_type": "execute_result"
    }
   ],
   "source": [
    "# rows and columns of the netflix stock from 2012 to 2022\n",
    "# factors with the highest price, lowest price, open, close, volume traded and adj close. \n",
    "\n",
    "df.shape"
   ]
  },
  {
   "cell_type": "markdown",
   "id": "7dc511a5",
   "metadata": {},
   "source": [
    "# Closing Price Stock Visual"
   ]
  },
  {
   "cell_type": "code",
   "execution_count": 7,
   "id": "19581a63",
   "metadata": {},
   "outputs": [
    {
     "data": {
      "image/png": "[encoded data removed]",
      "text/plain": [
       "<Figure size 1296x720 with 1 Axes>"
      ]
     },
     "metadata": {},
     "output_type": "display_data"
    }
   ],
   "source": [
    "# visualise the dataset and the closing price history through this period\n",
    "# create a plot using the relevant variables\n",
    "\n",
    "plt.figure(figsize=(18,10))\n",
    "plt.title('Netflix Closing Stock Price History')\n",
    "plt.plot(df['Close'])\n",
    "plt.xlabel('Date', fontsize= 20)\n",
    "plt.ylabel('Closing Price USD, ($)', fontsize= 18)\n",
    "plt.show()"
   ]
  },
  {
   "cell_type": "code",
   "execution_count": 8,
   "id": "6b905b40",
   "metadata": {},
   "outputs": [
    {
     "data": {
      "text/plain": [
       "2027"
      ]
     },
     "execution_count": 8,
     "metadata": {},
     "output_type": "execute_result"
    }
   ],
   "source": [
    "# Create a new dataframe with a close column \n",
    "data= df.filter(['Close'])\n",
    "\n",
    "# Convert the dataframe into a numpy array\n",
    "dataset = data.values\n",
    "\n",
    "# Get the rows so the model can be trained \n",
    "\n",
    "training_data_len = math.ceil(len(dataset) * 0.8) # training the data on about 80% and round the numbers up\n",
    "training_data_len #print the length of the training dataset. "
   ]
  },
  {
   "cell_type": "code",
   "execution_count": 9,
   "id": "d917aec0",
   "metadata": {},
   "outputs": [
    {
     "data": {
      "text/plain": [
       "array([[0.00385127],\n",
       "       [0.00556596],\n",
       "       [0.00532578],\n",
       "       ...,\n",
       "       [0.56990035],\n",
       "       [0.55476886],\n",
       "       [0.52446206]])"
      ]
     },
     "execution_count": 9,
     "metadata": {},
     "output_type": "execute_result"
    }
   ],
   "source": [
    "# Scale the data as applying pre-processing is beneficial, helping the model before using neural network\n",
    "\n",
    "scaler = MinMaxScaler(feature_range=(0,1))\n",
    "scaled_data = scaler.fit_transform(dataset)\n",
    "\n",
    "scaled_data"
   ]
  },
  {
   "cell_type": "code",
   "execution_count": 10,
   "id": "733da7a6",
   "metadata": {},
   "outputs": [
    {
     "name": "stdout",
     "output_type": "stream",
     "text": [
      "[array([0.00385127, 0.00556596, 0.00532578, 0.00678567, 0.00926895,\n",
      "       0.00877814, 0.00800956, 0.00800956, 0.0084753 , 0.00854631,\n",
      "       0.00934414, 0.0103717 , 0.00969919, 0.00838758, 0.00811816,\n",
      "       0.00861315, 0.01299282, 0.0146177 , 0.01496022, 0.01386792,\n",
      "       0.01444644, 0.01466156, 0.01516908, 0.01575805, 0.01547192,\n",
      "       0.01466156, 0.014837  , 0.01464694, 0.01347109, 0.01446733,\n",
      "       0.01425639, 0.01422506, 0.01421253, 0.01328313, 0.01223885,\n",
      "       0.01236208, 0.01208639, 0.01161438, 0.012431  , 0.01189007,\n",
      "       0.01231195, 0.01280276, 0.01190678, 0.01113819, 0.01073302,\n",
      "       0.01133452, 0.0115559 , 0.01094396, 0.01097529, 0.01074555,\n",
      "       0.01177311, 0.01172925, 0.01264194, 0.01278605, 0.01384703,\n",
      "       0.0135609 , 0.01386583, 0.01424177, 0.01396608, 0.01357761])]\n",
      "[0.012792318847363655]\n",
      "\n",
      "[array([0.00385127, 0.00556596, 0.00532578, 0.00678567, 0.00926895,\n",
      "       0.00877814, 0.00800956, 0.00800956, 0.0084753 , 0.00854631,\n",
      "       0.00934414, 0.0103717 , 0.00969919, 0.00838758, 0.00811816,\n",
      "       0.00861315, 0.01299282, 0.0146177 , 0.01496022, 0.01386792,\n",
      "       0.01444644, 0.01466156, 0.01516908, 0.01575805, 0.01547192,\n",
      "       0.01466156, 0.014837  , 0.01464694, 0.01347109, 0.01446733,\n",
      "       0.01425639, 0.01422506, 0.01421253, 0.01328313, 0.01223885,\n",
      "       0.01236208, 0.01208639, 0.01161438, 0.012431  , 0.01189007,\n",
      "       0.01231195, 0.01280276, 0.01190678, 0.01113819, 0.01073302,\n",
      "       0.01133452, 0.0115559 , 0.01094396, 0.01097529, 0.01074555,\n",
      "       0.01177311, 0.01172925, 0.01264194, 0.01278605, 0.01384703,\n",
      "       0.0135609 , 0.01386583, 0.01424177, 0.01396608, 0.01357761]), array([0.00556596, 0.00532578, 0.00678567, 0.00926895, 0.00877814,\n",
      "       0.00800956, 0.00800956, 0.0084753 , 0.00854631, 0.00934414,\n",
      "       0.0103717 , 0.00969919, 0.00838758, 0.00811816, 0.00861315,\n",
      "       0.01299282, 0.0146177 , 0.01496022, 0.01386792, 0.01444644,\n",
      "       0.01466156, 0.01516908, 0.01575805, 0.01547192, 0.01466156,\n",
      "       0.014837  , 0.01464694, 0.01347109, 0.01446733, 0.01425639,\n",
      "       0.01422506, 0.01421253, 0.01328313, 0.01223885, 0.01236208,\n",
      "       0.01208639, 0.01161438, 0.012431  , 0.01189007, 0.01231195,\n",
      "       0.01280276, 0.01190678, 0.01113819, 0.01073302, 0.01133452,\n",
      "       0.0115559 , 0.01094396, 0.01097529, 0.01074555, 0.01177311,\n",
      "       0.01172925, 0.01264194, 0.01278605, 0.01384703, 0.0135609 ,\n",
      "       0.01386583, 0.01424177, 0.01396608, 0.01357761, 0.01279232])]\n",
      "[0.012792318847363655, 0.012790230257935731]\n",
      "\n"
     ]
    }
   ],
   "source": [
    "# will be using the dataset which is used for ***training***\n",
    "\n",
    "train_data = scaled_data[0:training_data_len, :]\n",
    "\n",
    "\n",
    "# a_train & # b_train *** split training dataset into a and b.\n",
    "\n",
    "a_train = []\n",
    "b_train = []\n",
    "\n",
    "for i in range(60, len(train_data)):\n",
    "    a_train.append(train_data[i-60:i, 0])\n",
    "    b_train.append(train_data[i, 0])\n",
    "    if i<= 61:\n",
    "        print(a_train)\n",
    "        print(b_train)\n",
    "        print()"
   ]
  },
  {
   "cell_type": "code",
   "execution_count": 11,
   "id": "55b4e561",
   "metadata": {},
   "outputs": [],
   "source": [
    "# converting training data sets into numpy arrays \n",
    "\n",
    "a_train, b_train = np.array(a_train), np.array(b_train)"
   ]
  },
  {
   "cell_type": "code",
   "execution_count": 13,
   "id": "416d927c",
   "metadata": {},
   "outputs": [
    {
     "data": {
      "text/plain": [
       "(1967, 60, 1)"
      ]
     },
     "execution_count": 13,
     "metadata": {},
     "output_type": "execute_result"
    }
   ],
   "source": [
    "#rehspaing the data as the LTSM expects to be in 3 dimensional shape. Currently at 2 dimensional\n",
    "a_train = np.reshape(a_train, (a_train.shape[0], a_train.shape[1], 1))\n",
    "a_train.shape # two dimensional using rows x columns"
   ]
  },
  {
   "cell_type": "markdown",
   "id": "700707c5",
   "metadata": {},
   "source": [
    "# Building the LSTM Model"
   ]
  },
  {
   "cell_type": "code",
   "execution_count": 14,
   "id": "623060c9",
   "metadata": {},
   "outputs": [
    {
     "name": "stderr",
     "output_type": "stream",
     "text": [
      "2022-01-27 18:49:17.892402: I tensorflow/core/platform/cpu_feature_guard.cc:151] This TensorFlow binary is optimized with oneAPI Deep Neural Network Library (oneDNN) to use the following CPU instructions in performance-critical operations:  AVX2 FMA\n",
      "To enable them in other operations, rebuild TensorFlow with the appropriate compiler flags.\n"
     ]
    }
   ],
   "source": [
    "## Building the LSTM model\n",
    "\n",
    "model = Sequential()\n",
    "model.add(LSTM(50, return_sequences=True, input_shape= (a_train.shape[1],1)))\n",
    "model.add(LSTM(50, return_sequences= False))\n",
    "model.add(Dense(25))\n",
    "model.add(Dense(1))"
   ]
  },
  {
   "cell_type": "code",
   "execution_count": 15,
   "id": "00cad224",
   "metadata": {},
   "outputs": [],
   "source": [
    "# Compiling the LSTM model\n",
    "model.compile(optimizer='adam', loss='mean_squared_error')"
   ]
  },
  {
   "cell_type": "code",
   "execution_count": 16,
   "id": "439ec293",
   "metadata": {},
   "outputs": [
    {
     "name": "stdout",
     "output_type": "stream",
     "text": [
      "1967/1967 [==============================] - 33s 15ms/step - loss: 7.4458e-04\n"
     ]
    },
    {
     "data": {
      "text/plain": [
       "<keras.callbacks.History at 0x7ff8b226c3a0>"
      ]
     },
     "execution_count": 16,
     "metadata": {},
     "output_type": "execute_result"
    }
   ],
   "source": [
    "## Train the model\n",
    "model.fit(a_train, b_train, batch_size=1, epochs=1)"
   ]
  },
  {
   "cell_type": "code",
   "execution_count": 17,
   "id": "0dfa1736",
   "metadata": {},
   "outputs": [],
   "source": [
    "## Forming the new testing dataset \n",
    "## Creating a new array \n",
    "\n",
    "test_data = scaled_data[training_data_len - 60: , :]\n",
    "\n",
    "# creating datasets a_test and b_test\n",
    "\n",
    "a_test = []\n",
    "b_test = dataset[training_data_len:, :]\n",
    "for i in range(60, len(test_data)):\n",
    "    a_test.append(test_data[i-60:i, 0])"
   ]
  },
  {
   "cell_type": "code",
   "execution_count": 18,
   "id": "e6ad725e",
   "metadata": {},
   "outputs": [],
   "source": [
    "# Convert testing dataset in a numpy array to use in the LSTM Model \n",
    "\n",
    "a_test = np.array(a_test)"
   ]
  },
  {
   "cell_type": "code",
   "execution_count": 19,
   "id": "6a9ea796",
   "metadata": {},
   "outputs": [],
   "source": [
    "# Reshape the data as data is 2 dimemsional but it needs to be 3 dimensional\n",
    "\n",
    "a_test = np.reshape(a_test, (a_test.shape[0], a_test.shape[1], 1))"
   ]
  },
  {
   "cell_type": "code",
   "execution_count": 21,
   "id": "3ba51553",
   "metadata": {},
   "outputs": [],
   "source": [
    "## Obtain the predicted prices from the models\n",
    "# want the predictions to contain the same values as b_test dataset\n",
    "\n",
    "predictions = model.predict(a_test)\n",
    "predictions = scaler.inverse_transform(predictions) "
   ]
  },
  {
   "cell_type": "code",
   "execution_count": 22,
   "id": "fa298886",
   "metadata": {},
   "outputs": [
    {
     "data": {
      "text/plain": [
       "26.43643984587296"
      ]
     },
     "execution_count": 22,
     "metadata": {},
     "output_type": "execute_result"
    }
   ],
   "source": [
    "# obtain the root mean to check for model accuracy RMSE\n",
    "\n",
    "rmse = np.sqrt(np.mean(predictions - b_test)**2)\n",
    "rmse"
   ]
  },
  {
   "cell_type": "code",
   "execution_count": 24,
   "id": "953f6f2a",
   "metadata": {},
   "outputs": [
    {
     "name": "stderr",
     "output_type": "stream",
     "text": [
      "/var/folders/33/w6rx_h4j3316nd3522bny_n00000gn/T/ipykernel_32792/3147602947.py:5: SettingWithCopyWarning: \n",
      "A value is trying to be set on a copy of a slice from a DataFrame.\n",
      "Try using .loc[row_indexer,col_indexer] = value instead\n",
      "\n",
      "See the caveats in the documentation: https://pandas.pydata.org/pandas-docs/stable/user_guide/indexing.html#returning-a-view-versus-a-copy\n",
      "  valid['Predictions'] = predictions\n"
     ]
    },
    {
     "data": {
      "image/png": "[encoded data removed]",
      "text/plain": [
       "<Figure size 1152x576 with 1 Axes>"
      ]
     },
     "metadata": {},
     "output_type": "display_data"
    }
   ],
   "source": [
    "# plot the data\n",
    "\n",
    "train = data[:training_data_len]\n",
    "valid = data[training_data_len:]\n",
    "valid['Predictions'] = predictions\n",
    "\n",
    "# Visualise the data through a plot\n",
    "\n",
    "plt.figure(figsize=(16,8))\n",
    "plt.title('Model')\n",
    "plt.xlabel('Date', fontsize=18)\n",
    "plt.ylabel('Closing Stock Price USD ($)', fontsize=18)\n",
    "plt.plot(train['Close'])\n",
    "plt.plot(valid[['Close', 'Predictions']])\n",
    "plt.legend(['Train', 'Val', 'Predictions'], loc='upper left')\n",
    "plt.show()"
   ]
  },
  {
   "cell_type": "code",
   "execution_count": 25,
   "id": "b82e9b48",
   "metadata": {},
   "outputs": [],
   "source": [
    "# comment: predictions and actual values are pretty close "
   ]
  },
  {
   "cell_type": "code",
   "execution_count": 27,
   "id": "99f40a52",
   "metadata": {},
   "outputs": [
    {
     "data": {
      "text/html": [
       "<div>\n",
       "<style scoped>\n",
       "    .dataframe tbody tr th:only-of-type {\n",
       "        vertical-align: middle;\n",
       "    }\n",
       "\n",
       "    .dataframe tbody tr th {\n",
       "        vertical-align: top;\n",
       "    }\n",
       "\n",
       "    .dataframe thead th {\n",
       "        text-align: right;\n",
       "    }\n",
       "</style>\n",
       "<table border=\"1\" class=\"dataframe\">\n",
       "  <thead>\n",
       "    <tr style=\"text-align: right;\">\n",
       "      <th></th>\n",
       "      <th>Close</th>\n",
       "      <th>Predictions</th>\n",
       "    </tr>\n",
       "    <tr>\n",
       "      <th>Date</th>\n",
       "      <th></th>\n",
       "      <th></th>\n",
       "    </tr>\n",
       "  </thead>\n",
       "  <tbody>\n",
       "    <tr>\n",
       "      <th>2020-01-24</th>\n",
       "      <td>353.160004</td>\n",
       "      <td>328.897766</td>\n",
       "    </tr>\n",
       "    <tr>\n",
       "      <th>2020-01-27</th>\n",
       "      <td>342.880005</td>\n",
       "      <td>330.941284</td>\n",
       "    </tr>\n",
       "    <tr>\n",
       "      <th>2020-01-28</th>\n",
       "      <td>348.519989</td>\n",
       "      <td>332.200409</td>\n",
       "    </tr>\n",
       "    <tr>\n",
       "      <th>2020-01-29</th>\n",
       "      <td>343.160004</td>\n",
       "      <td>333.598206</td>\n",
       "    </tr>\n",
       "    <tr>\n",
       "      <th>2020-01-30</th>\n",
       "      <td>347.739990</td>\n",
       "      <td>334.330261</td>\n",
       "    </tr>\n",
       "    <tr>\n",
       "      <th>...</th>\n",
       "      <td>...</td>\n",
       "      <td>...</td>\n",
       "    </tr>\n",
       "    <tr>\n",
       "      <th>2022-01-19</th>\n",
       "      <td>515.859985</td>\n",
       "      <td>509.502686</td>\n",
       "    </tr>\n",
       "    <tr>\n",
       "      <th>2022-01-20</th>\n",
       "      <td>508.250000</td>\n",
       "      <td>504.817566</td>\n",
       "    </tr>\n",
       "    <tr>\n",
       "      <th>2022-01-21</th>\n",
       "      <td>397.500000</td>\n",
       "      <td>500.305054</td>\n",
       "    </tr>\n",
       "    <tr>\n",
       "      <th>2022-01-24</th>\n",
       "      <td>387.149994</td>\n",
       "      <td>484.920959</td>\n",
       "    </tr>\n",
       "    <tr>\n",
       "      <th>2022-01-25</th>\n",
       "      <td>366.420013</td>\n",
       "      <td>466.110687</td>\n",
       "    </tr>\n",
       "  </tbody>\n",
       "</table>\n",
       "<p>506 rows × 2 columns</p>\n",
       "</div>"
      ],
      "text/plain": [
       "                 Close  Predictions\n",
       "Date                               \n",
       "2020-01-24  353.160004   328.897766\n",
       "2020-01-27  342.880005   330.941284\n",
       "2020-01-28  348.519989   332.200409\n",
       "2020-01-29  343.160004   333.598206\n",
       "2020-01-30  347.739990   334.330261\n",
       "...                ...          ...\n",
       "2022-01-19  515.859985   509.502686\n",
       "2022-01-20  508.250000   504.817566\n",
       "2022-01-21  397.500000   500.305054\n",
       "2022-01-24  387.149994   484.920959\n",
       "2022-01-25  366.420013   466.110687\n",
       "\n",
       "[506 rows x 2 columns]"
      ]
     },
     "execution_count": 27,
     "metadata": {},
     "output_type": "execute_result"
    }
   ],
   "source": [
    "# get the actual closing price and predicted closing price in a table\n",
    "valid"
   ]
  },
  {
   "cell_type": "code",
   "execution_count": 28,
   "id": "43957bb8",
   "metadata": {},
   "outputs": [
    {
     "name": "stdout",
     "output_type": "stream",
     "text": [
      "[[445.55594]]\n"
     ]
    }
   ],
   "source": [
    "netflix_quote = web.DataReader('NFLX', data_source='yahoo', start= '2012-01-01', end= '2022-01-25')\n",
    "# new dataframe for last 60 day closing price\n",
    "new_df = netflix_quote.filter(['Close'])\n",
    "last_60_days = new_df[-60:].values\n",
    "last_60_days_scaled = scaler.transform(last_60_days)\n",
    "A_test = []\n",
    "A_test.append(last_60_days_scaled)\n",
    "A_test = np.array(A_test)\n",
    "A_test = np.reshape(A_test, (A_test.shape[0], A_test.shape[1], 1))\n",
    "pred_price = model.predict(A_test)\n",
    "pred_price = scaler.inverse_transform(pred_price)\n",
    "print(pred_price)"
   ]
  },
  {
   "cell_type": "code",
   "execution_count": 29,
   "id": "f1d8ecc2",
   "metadata": {},
   "outputs": [],
   "source": [
    "# the model predicts that the closing price of netflix stock on 26th january 2022 will be 445.66"
   ]
  },
  {
   "cell_type": "code",
   "execution_count": 30,
   "id": "77ca6310",
   "metadata": {},
   "outputs": [
    {
     "name": "stdout",
     "output_type": "stream",
     "text": [
      "Date\n",
      "2022-01-26    359.700012\n",
      "Name: Close, dtype: float64\n"
     ]
    }
   ],
   "source": [
    "# actual closing price of netflix stock on 26th january 2022 was:\n",
    "netflix_quote1 = web.DataReader('NFLX', data_source='yahoo', start= '2022-01-26', end= '2022-01-26')\n",
    "print(netflix_quote1['Close'])"
   ]
  },
  {
   "cell_type": "markdown",
   "id": "6df965a3",
   "metadata": {},
   "source": [
    "#### More Predictions:"
   ]
  },
  {
   "cell_type": "code",
   "execution_count": 36,
   "id": "2cfe09bf",
   "metadata": {},
   "outputs": [
    {
     "name": "stdout",
     "output_type": "stream",
     "text": [
      "[[411.83572]]\n"
     ]
    }
   ],
   "source": [
    "netflix_quote4 = web.DataReader('NFLX', data_source='yahoo', start= '2012-01-01', end= '2022-01-26')\n",
    "# new dataframe for last 60 day closing price\n",
    "new_df = netflix_quote.filter(['Close'])\n",
    "last_60_days = new_df[-60:].values\n",
    "last_60_days_scaled = scaler.transform(last_60_days)\n",
    "A_test = []\n",
    "A_test.append(last_60_days_scaled)\n",
    "A_test = np.array(A_test)\n",
    "A_test = np.reshape(A_test, (A_test.shape[0], A_test.shape[1], 1))\n",
    "pred_price = model.predict(A_test)\n",
    "pred_price = scaler.inverse_transform(pred_price)\n",
    "print(pred_price)"
   ]
  },
  {
   "cell_type": "code",
   "execution_count": 33,
   "id": "4206345e",
   "metadata": {},
   "outputs": [],
   "source": [
    "# netflix_quote_4 predicts that the closing price of netflix stock on 27th january 2022 will be $411.83"
   ]
  },
  {
   "cell_type": "code",
   "execution_count": 37,
   "id": "d5fadd73",
   "metadata": {},
   "outputs": [
    {
     "name": "stdout",
     "output_type": "stream",
     "text": [
      "Date\n",
      "2022-01-26    359.700012\n",
      "Name: Close, dtype: float64\n"
     ]
    }
   ],
   "source": [
    "# actual closing price of netflix stock on 27th january 2022 was:\n",
    "netflix_quote5 = web.DataReader('NFLX', data_source='yahoo', start= '2022-01-27', end= '2022-01-27')\n",
    "print(netflix_quote1['Close'])"
   ]
  },
  {
   "cell_type": "markdown",
   "id": "7880726e",
   "metadata": {},
   "source": [
    "# Comments:"
   ]
  },
  {
   "cell_type": "markdown",
   "id": "0dfb6949",
   "metadata": {},
   "source": [
    "#### This model was used to predict the future closing price of netflix stock (NFLX) and it was understood that the prediction made by the trained model was off by a distance for the 26th January 2022. The model predicted that the closing price would be 445.55 however the actual price recorded for the stock by Yahoo was 359.70. A difference of 85.85.   "
   ]
  }
 ],
 "metadata": {
  "kernelspec": {
   "display_name": "Python 3 (ipykernel)",
   "language": "python",
   "name": "python3"
  },
  "language_info": {
   "codemirror_mode": {
    "name": "ipython",
    "version": 3
   },
   "file_extension": ".py",
   "mimetype": "text/x-python",
   "name": "python",
   "nbconvert_exporter": "python",
   "pygments_lexer": "ipython3",
   "version": "3.9.7"
  }
 },
 "nbformat": 4,
 "nbformat_minor": 5
}
